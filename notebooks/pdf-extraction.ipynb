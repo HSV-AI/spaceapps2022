{
 "cells": [
  {
   "cell_type": "code",
   "execution_count": 14,
   "metadata": {},
   "outputs": [
    {
     "name": "stdout",
     "output_type": "stream",
     "text": [
      "Requirement already satisfied: PyPDF2 in /home/jlangley/miniconda3/envs/spaceapps2022/lib/python3.10/site-packages (2.11.0)\n",
      "Collecting requests\n",
      "  Using cached requests-2.28.1-py3-none-any.whl (62 kB)\n",
      "Collecting urllib3<1.27,>=1.21.1\n",
      "  Downloading urllib3-1.26.12-py2.py3-none-any.whl (140 kB)\n",
      "\u001b[2K     \u001b[38;2;114;156;31m━━━━━━━━━━━━━━━━━━━━━━━━━━━━━━━━━━━━━━━\u001b[0m \u001b[32m140.4/140.4 kB\u001b[0m \u001b[31m3.9 MB/s\u001b[0m eta \u001b[36m0:00:00\u001b[0m\n",
      "\u001b[?25hCollecting charset-normalizer<3,>=2\n",
      "  Downloading charset_normalizer-2.1.1-py3-none-any.whl (39 kB)\n",
      "Collecting idna<4,>=2.5\n",
      "  Downloading idna-3.4-py3-none-any.whl (61 kB)\n",
      "\u001b[2K     \u001b[38;2;114;156;31m━━━━━━━━━━━━━━━━━━━━━━━━━━━━━━━━━━━━━━━━\u001b[0m \u001b[32m61.5/61.5 kB\u001b[0m \u001b[31m8.6 MB/s\u001b[0m eta \u001b[36m0:00:00\u001b[0m\n",
      "\u001b[?25hRequirement already satisfied: certifi>=2017.4.17 in /home/jlangley/miniconda3/envs/spaceapps2022/lib/python3.10/site-packages (from requests) (2022.9.14)\n",
      "Installing collected packages: urllib3, idna, charset-normalizer, requests\n",
      "Successfully installed charset-normalizer-2.1.1 idna-3.4 requests-2.28.1 urllib3-1.26.12\n"
     ]
    }
   ],
   "source": [
    "!pip install PyPDF2\n",
    "!pip install requests"
   ]
  },
  {
   "cell_type": "code",
   "execution_count": null,
   "metadata": {},
   "outputs": [],
   "source": [
    "import requests, PyPDF2\n",
    "from PyPDF2 import PdfFileReader\n",
    "import io\n",
    "\n",
    "url = \"https://github.com/HSV-AI/spaceapps2022/raw/main/data/01_raw/19660021498.pdf\"\n",
    "\n",
    "\n",
    "response = requests.get(url)\n",
    "my_raw_data = response.content\n",
    "\n",
    "with open(\"my_pdf.pdf\", 'wb') as my_data:\n",
    "    my_data.write(my_raw_data)\n",
    "\n",
    "\n",
    "open_pdf_file = open(\"my_pdf.pdf\", 'rb')\n",
    "read_pdf = PyPDF2.PdfFileReader(open_pdf_file)\n",
    "num_pages = read_pdf.getNumPages()\n",
    "\n",
    "ann_text = []\n",
    "for page_num in range(num_pages):\n",
    "    if read_pdf.isEncrypted:\n",
    "        read_pdf.decrypt(\"\")\n",
    "        print(read_pdf.getPage(page_num).extractText())\n",
    "        page_text = read_pdf.getPage(page_num).extractText().split()\n",
    "        ann_text.append(page_text)\n",
    "\n",
    "    else:\n",
    "        print(read_pdf.getPage(page_num).extractText())\n",
    "print(ann_text)"
   ]
  },
  {
   "cell_type": "code",
   "execution_count": null,
   "metadata": {},
   "outputs": [],
   "source": []
  }
 ],
 "metadata": {
  "kernelspec": {
   "display_name": "Python 3 (ipykernel)",
   "language": "python",
   "name": "python3"
  },
  "language_info": {
   "codemirror_mode": {
    "name": "ipython",
    "version": 3
   },
   "file_extension": ".py",
   "mimetype": "text/x-python",
   "name": "python",
   "nbconvert_exporter": "python",
   "pygments_lexer": "ipython3",
   "version": "3.10.4"
  },
  "vscode": {
   "interpreter": {
    "hash": "916dbcbb3f70747c44a77c7bcd40155683ae19c65e1c03b4aa3499c5328201f1"
   }
  }
 },
 "nbformat": 4,
 "nbformat_minor": 2
}
