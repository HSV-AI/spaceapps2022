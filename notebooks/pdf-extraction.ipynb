{
 "cells": [
  {
   "cell_type": "code",
   "execution_count": null,
   "metadata": {},
   "outputs": [],
   "source": [
    "# !pip install PyPDF2\n",
    "# !pip install requests"
   ]
  },
  {
   "cell_type": "code",
   "execution_count": null,
   "metadata": {},
   "outputs": [],
   "source": [
    "import requests, PyPDF2\n",
    "from PyPDF2 import PdfFileReader\n",
    "import io\n",
    "\n",
    "url = \"https://github.com/HSV-AI/spaceapps2022/raw/main/data/01_raw/19660021498.pdf\"\n",
    "\n",
    "\n",
    "response = requests.get(url)\n",
    "my_raw_data = response.content\n",
    "\n",
    "with open(\"my_pdf.pdf\", 'wb') as my_data:\n",
    "    my_data.write(my_raw_data)\n",
    "\n",
    "\n",
    "open_pdf_file = open(\"my_pdf.pdf\", 'rb')\n",
    "read_pdf = PyPDF2.PdfFileReader(open_pdf_file)\n",
    "num_pages = read_pdf.getNumPages()\n",
    "\n",
    "ann_text = []\n",
    "for page_num in range(num_pages):\n",
    "    if read_pdf.isEncrypted:\n",
    "        read_pdf.decrypt(\"\")\n",
    "        print(read_pdf.getPage(page_num).extractText())\n",
    "        page_text = read_pdf.getPage(page_num).extractText().split()\n",
    "        ann_text.append(page_text)\n",
    "\n",
    "    else:\n",
    "        print(read_pdf.getPage(page_num).extractText())\n",
    "print(ann_text)"
   ]
  },
  {
   "cell_type": "code",
   "execution_count": null,
   "metadata": {},
   "outputs": [],
   "source": []
  }
 ],
 "metadata": {
  "kernelspec": {
   "display_name": "Python 3.8.13 ('spaceapps2022')",
   "language": "python",
   "name": "python3"
  },
  "language_info": {
   "codemirror_mode": {
    "name": "ipython",
    "version": 3
   },
   "file_extension": ".py",
   "mimetype": "text/x-python",
   "name": "python",
   "nbconvert_exporter": "python",
   "pygments_lexer": "ipython3",
   "version": "3.8.13"
  },
  "vscode": {
   "interpreter": {
    "hash": "97ed8e76e4ab9e2e57332aecbd29da19b6b7f21cb02156c07331b0133df957f9"
   }
  }
 },
 "nbformat": 4,
 "nbformat_minor": 2
}
