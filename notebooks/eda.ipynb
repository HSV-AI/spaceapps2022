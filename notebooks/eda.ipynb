{
 "cells": [
  {
   "cell_type": "code",
   "execution_count": 1,
   "metadata": {},
   "outputs": [],
   "source": [
    "import pandas as pd\n",
    "\n",
    "df = pd.read_csv(\"../data/02_intermediate/data.csv\", dtype={\n",
    "    'id': 'int64',\n",
    "    'pdf': 'string',\n",
    "    'text': 'string'},\n",
    "                na_filter = False)"
   ]
  },
  {
   "cell_type": "code",
   "execution_count": 2,
   "metadata": {},
   "outputs": [],
   "source": [
    "df = pd.read_parquet(\"../data/04_feature/chunks.parquet\")"
   ]
  },
  {
   "cell_type": "code",
   "execution_count": 3,
   "metadata": {},
   "outputs": [
    {
     "name": "stdout",
     "output_type": "stream",
     "text": [
      "id       109516\n",
      "page     109516\n",
      "chunk    109516\n",
      "dtype: int64\n"
     ]
    }
   ],
   "source": [
    "print(df.count())"
   ]
  },
  {
   "cell_type": "code",
   "execution_count": 34,
   "metadata": {},
   "outputs": [
    {
     "data": {
      "text/plain": [
       "id       int64\n",
       "pdf     string\n",
       "text    string\n",
       "dtype: object"
      ]
     },
     "execution_count": 34,
     "metadata": {},
     "output_type": "execute_result"
    }
   ],
   "source": [
    "df.dtypes"
   ]
  },
  {
   "cell_type": "code",
   "execution_count": 37,
   "metadata": {},
   "outputs": [
    {
     "data": {
      "text/html": [
       "<div>\n",
       "<style scoped>\n",
       "    .dataframe tbody tr th:only-of-type {\n",
       "        vertical-align: middle;\n",
       "    }\n",
       "\n",
       "    .dataframe tbody tr th {\n",
       "        vertical-align: top;\n",
       "    }\n",
       "\n",
       "    .dataframe thead th {\n",
       "        text-align: right;\n",
       "    }\n",
       "</style>\n",
       "<table border=\"1\" class=\"dataframe\">\n",
       "  <thead>\n",
       "    <tr style=\"text-align: right;\">\n",
       "      <th></th>\n",
       "      <th>id</th>\n",
       "      <th>pdf</th>\n",
       "      <th>text</th>\n",
       "    </tr>\n",
       "  </thead>\n",
       "  <tbody>\n",
       "  </tbody>\n",
       "</table>\n",
       "</div>"
      ],
      "text/plain": [
       "Empty DataFrame\n",
       "Columns: [id, pdf, text]\n",
       "Index: []"
      ]
     },
     "execution_count": 37,
     "metadata": {},
     "output_type": "execute_result"
    }
   ],
   "source": [
    "df = df[(df[\"pdf\"] != \"N/A\") & (df[\"text\"] != \"N/A\")]\n",
    "df[df[\"pdf\"] == 'N/A']"
   ]
  },
  {
   "cell_type": "code",
   "execution_count": null,
   "metadata": {},
   "outputs": [],
   "source": [
    "import json\n",
    "import os\n",
    "import pandas as pd\n",
    "from pathlib import Path\n",
    "\n",
    "def get_metadata():\n",
    "    metadata_path = Path(\"../data/01_raw/ntrs-public-metadata.json\")\n",
    "    with open(metadata_path, 'r') as f:\n",
    "        metadata = json.load(f)\n",
    "    return metadata\n",
    "\n",
    "def get_metadata_df():\n",
    "    metadata = get_metadata()\n",
    "    df = pd.DataFrame(metadata)\n",
    "    return df\n",
    "\n",
    "def get_metadata_df_by_year(year):\n",
    "    df = get_metadata_df()\n",
    "    df = df[df['year'] == year]\n",
    "    return df\n",
    "\n",
    "meta = get_metadata()\n"
   ]
  },
  {
   "cell_type": "code",
   "execution_count": null,
   "metadata": {},
   "outputs": [],
   "source": [
    "print(meta['19930091025'])"
   ]
  },
  {
   "cell_type": "code",
   "execution_count": null,
   "metadata": {},
   "outputs": [],
   "source": [
    "meta['19930091026']"
   ]
  },
  {
   "cell_type": "code",
   "execution_count": null,
   "metadata": {},
   "outputs": [],
   "source": [
    "import requests as r\n",
    "from icecream import ic\n",
    "from collections import defaultdict\n",
    "import random\n",
    "random.seed(4)\n",
    "import time\n",
    "import numpy as np\n",
    "\n",
    "\n",
    "BASE_URL = \"https://ntrs.nasa.gov/api/citations/\"\n",
    "aval = 0\n",
    "not_aval = 0\n",
    "pdf = 0\n",
    "text = 0\n",
    "i = 0\n",
    "counts = defaultdict(int)\n",
    "print(len(meta.keys()))\n",
    "\n",
    "def make_request(url):\n",
    "    # try:\n",
    "    res = r.request(\"GET\", url)\n",
    "    while res.status_code != 200:\n",
    "        time.sleep(np.random.randint(1, 30))\n",
    "        res = r.request(\"GET\", url)\n",
    "    # except Exception as e:\n",
    "        # print(e)\n",
    "        # return None\n",
    "    return res\n",
    "\n",
    "keys = list(meta.keys())\n",
    "random.shuffle(keys)\n",
    "keys = keys[:10]\n",
    "urls = [BASE_URL + key for key in keys]\n",
    "# urls = [BASE_URL + key + '/download' for key in keys]\n",
    "# from multiprocessing import Pool\n",
    "# pool = Pool(4)\n",
    "# results = pool.map(make_request, urls)\n",
    "results = [make_request(url) for url in urls]\n",
    "print(len(results))\n",
    "\n",
    "texts = []\n",
    "pdfs = []\n",
    "fals = 0\n",
    "\n",
    "for result in results:\n",
    "    # print(result)\n",
    "    # next\n",
    "    if result.status_code != 200:\n",
    "        # print(\"429\")\n",
    "        # print(\"Falure\")\n",
    "        print(result.status_code)\n",
    "        # print(result)\n",
    "        fals += 1\n",
    "        continue\n",
    "\n",
    "    data = result.json()\n",
    "    # print()\n",
    "    # print(data)\n",
    "    # next\n",
    "\n",
    "    # print(data.keys())\n",
    "    # print(data['downloads'])\n",
    "    # print(data['downloads'])\n",
    "    counts[len(data['downloads'])] += 1\n",
    "    if data['downloadsAvailable']:\n",
    "        # print(data.keys())\n",
    "        if len(data['downloads']) > 0:\n",
    "            links = data['downloads'][0]['links']\n",
    "            if 'pdf' in links:\n",
    "                pdfs.append(links['pdf'])\n",
    "\n",
    "            if \"fulltext\" in links:\n",
    "                texts.append(links['fulltext'])\n",
    "            aval += 1\n",
    "        else:\n",
    "            print('error')\n",
    "            # print(data)\n",
    "            not_aval += 1\n",
    "    else:\n",
    "        not_aval += 1\n",
    "    i+=1\n",
    "    if i > 1000:\n",
    "        break\n",
    "    \n",
    "\n",
    "print(f\"Available: {aval}\")\n",
    "print(f\"Not Available: {not_aval}\")\n",
    "print(f\"PDF: {len(pdfs)}\")\n",
    "print(f\"Text: {len(texts)}\")\n",
    "print(f\"Fals: {fals}\")\n",
    "print(counts)\n"
   ]
  },
  {
   "cell_type": "code",
   "execution_count": null,
   "metadata": {},
   "outputs": [],
   "source": [
    "pdfs[:4]"
   ]
  },
  {
   "cell_type": "code",
   "execution_count": null,
   "metadata": {},
   "outputs": [],
   "source": [
    "for pdf in pdfs:\n",
    "    "
   ]
  },
  {
   "cell_type": "code",
   "execution_count": null,
   "metadata": {},
   "outputs": [],
   "source": [
    "import requests as r\n",
    "from icecream import ic\n",
    "from collections import defaultdict\n",
    "import random\n",
    "random.seed(4)\n",
    "\n",
    "\n",
    "BASE_URL = \"https://ntrs.nasa.gov/api/citations/\"\n",
    "aval = 0\n",
    "not_aval = 0\n",
    "pdf = 0\n",
    "text = 0\n",
    "i = 0\n",
    "counts = defaultdict(int)\n",
    "print(len(meta.keys()))\n",
    "\n",
    "keys = list(meta.keys())\n",
    "random.shuffle(keys)\n",
    "for key in keys:\n",
    "    url = BASE_URL + key + \"/downloads\"\n",
    "    result = r.request(\"GET\", url)\n",
    "    # print(result.content)\n",
    "    data = result.json()\n",
    "    # print()\n",
    "    print(data)\n",
    "    break\n",
    "    # print(data['downloads'])\n",
    "    # print(data['downloads'])\n",
    "    counts[len(data['downloads'])] += 1\n",
    "    if data['downloadsAvailable']:\n",
    "        # print(data.keys())\n",
    "        try:\n",
    "            links = data['downloads'][0]['links']\n",
    "            if links['pdf']:\n",
    "                pdf += 1\n",
    "            if links['fulltext']:\n",
    "                text += 1\n",
    "            aval += 1\n",
    "        except:\n",
    "            print('error')\n",
    "            # print(data)\n",
    "            not_aval += 1\n",
    "    else:\n",
    "        not_aval += 1\n",
    "    i+=1\n",
    "    if i > 1000:\n",
    "        break\n",
    "    \n",
    "\n",
    "print(f\"Available: {aval}\")\n",
    "print(f\"Not Available: {not_aval}\")\n",
    "print(f\"PDF: {pdf}\")\n",
    "print(f\"Text: {text}\")\n",
    "print(counts)"
   ]
  }
 ],
 "metadata": {
  "kernelspec": {
   "display_name": "Python 3 (ipykernel)",
   "language": "python",
   "name": "python3"
  },
  "language_info": {
   "codemirror_mode": {
    "name": "ipython",
    "version": 3
   },
   "file_extension": ".py",
   "mimetype": "text/x-python",
   "name": "python",
   "nbconvert_exporter": "python",
   "pygments_lexer": "ipython3",
   "version": "3.9.5"
  },
  "vscode": {
   "interpreter": {
    "hash": "97ed8e76e4ab9e2e57332aecbd29da19b6b7f21cb02156c07331b0133df957f9"
   }
  }
 },
 "nbformat": 4,
 "nbformat_minor": 2
}
